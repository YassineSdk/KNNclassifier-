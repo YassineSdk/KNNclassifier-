{
 "cells": [
  {
   "cell_type": "code",
   "execution_count": 1,
   "id": "03051e3d",
   "metadata": {},
   "outputs": [],
   "source": [
    "import pickle\n",
    "with open('knn_model.pickle','rb') as f :\n",
    "    KNN_new = pickle.load(f)\n",
    "\n",
    "\n"
   ]
  },
  {
   "cell_type": "code",
   "execution_count": 4,
   "id": "4b3c9f30",
   "metadata": {},
   "outputs": [],
   "source": [
    "\n",
    "with open('Scaller.pickle','rb') as f :\n",
    "    Scaller_new = pickle.load(f)\n"
   ]
  },
  {
   "cell_type": "code",
   "execution_count": 6,
   "id": "6531c9b1",
   "metadata": {},
   "outputs": [],
   "source": [
    "import pandas as pd \n",
    "import numpy as np "
   ]
  },
  {
   "cell_type": "code",
   "execution_count": 9,
   "id": "719fa685",
   "metadata": {},
   "outputs": [],
   "source": [
    "new_df = pd.read_csv('new_customers.csv')"
   ]
  },
  {
   "cell_type": "code",
   "execution_count": 13,
   "id": "2d89041f",
   "metadata": {},
   "outputs": [
    {
     "data": {
      "text/html": [
       "<div>\n",
       "<style scoped>\n",
       "    .dataframe tbody tr th:only-of-type {\n",
       "        vertical-align: middle;\n",
       "    }\n",
       "\n",
       "    .dataframe tbody tr th {\n",
       "        vertical-align: top;\n",
       "    }\n",
       "\n",
       "    .dataframe thead th {\n",
       "        text-align: right;\n",
       "    }\n",
       "</style>\n",
       "<table border=\"1\" class=\"dataframe\">\n",
       "  <thead>\n",
       "    <tr style=\"text-align: right;\">\n",
       "      <th></th>\n",
       "      <th>Gender</th>\n",
       "      <th>Age</th>\n",
       "      <th>Salary</th>\n",
       "      <th>Product ID</th>\n",
       "      <th>Price</th>\n",
       "    </tr>\n",
       "  </thead>\n",
       "  <tbody>\n",
       "    <tr>\n",
       "      <th>0</th>\n",
       "      <td>Male</td>\n",
       "      <td>24</td>\n",
       "      <td>38652</td>\n",
       "      <td>3</td>\n",
       "      <td>4446</td>\n",
       "    </tr>\n",
       "    <tr>\n",
       "      <th>1</th>\n",
       "      <td>Female</td>\n",
       "      <td>47</td>\n",
       "      <td>64727</td>\n",
       "      <td>1</td>\n",
       "      <td>5188</td>\n",
       "    </tr>\n",
       "    <tr>\n",
       "      <th>2</th>\n",
       "      <td>Male</td>\n",
       "      <td>46</td>\n",
       "      <td>54648</td>\n",
       "      <td>1</td>\n",
       "      <td>6193</td>\n",
       "    </tr>\n",
       "    <tr>\n",
       "      <th>3</th>\n",
       "      <td>Male</td>\n",
       "      <td>31</td>\n",
       "      <td>20018</td>\n",
       "      <td>3</td>\n",
       "      <td>4779</td>\n",
       "    </tr>\n",
       "    <tr>\n",
       "      <th>4</th>\n",
       "      <td>Male</td>\n",
       "      <td>58</td>\n",
       "      <td>77731</td>\n",
       "      <td>2</td>\n",
       "      <td>6855</td>\n",
       "    </tr>\n",
       "  </tbody>\n",
       "</table>\n",
       "</div>"
      ],
      "text/plain": [
       "   Gender  Age  Salary  Product ID  Price\n",
       "0    Male   24   38652           3   4446\n",
       "1  Female   47   64727           1   5188\n",
       "2    Male   46   54648           1   6193\n",
       "3    Male   31   20018           3   4779\n",
       "4    Male   58   77731           2   6855"
      ]
     },
     "execution_count": 13,
     "metadata": {},
     "output_type": "execute_result"
    }
   ],
   "source": [
    "new_df.head()"
   ]
  },
  {
   "cell_type": "code",
   "execution_count": 15,
   "id": "612ead2c",
   "metadata": {},
   "outputs": [],
   "source": [
    "new_df.drop(\"Product ID\",axis=1,inplace=True)"
   ]
  },
  {
   "cell_type": "code",
   "execution_count": 11,
   "id": "0107e8a6",
   "metadata": {},
   "outputs": [],
   "source": [
    "gender_encouded_new = pd.get_dummies(new_df['Gender'],drop_first=True)"
   ]
  },
  {
   "cell_type": "code",
   "execution_count": 20,
   "id": "1672449a",
   "metadata": {},
   "outputs": [],
   "source": [
    "new_df = new_df.join(gender_encouded_new)"
   ]
  },
  {
   "cell_type": "code",
   "execution_count": 17,
   "id": "d833c214",
   "metadata": {},
   "outputs": [],
   "source": [
    "new_df.drop(\"Gender\",axis=1,inplace=True)"
   ]
  },
  {
   "cell_type": "code",
   "execution_count": 21,
   "id": "1a6afcc4",
   "metadata": {},
   "outputs": [
    {
     "data": {
      "text/html": [
       "<div>\n",
       "<style scoped>\n",
       "    .dataframe tbody tr th:only-of-type {\n",
       "        vertical-align: middle;\n",
       "    }\n",
       "\n",
       "    .dataframe tbody tr th {\n",
       "        vertical-align: top;\n",
       "    }\n",
       "\n",
       "    .dataframe thead th {\n",
       "        text-align: right;\n",
       "    }\n",
       "</style>\n",
       "<table border=\"1\" class=\"dataframe\">\n",
       "  <thead>\n",
       "    <tr style=\"text-align: right;\">\n",
       "      <th></th>\n",
       "      <th>Age</th>\n",
       "      <th>Salary</th>\n",
       "      <th>Price</th>\n",
       "      <th>Male</th>\n",
       "    </tr>\n",
       "  </thead>\n",
       "  <tbody>\n",
       "    <tr>\n",
       "      <th>0</th>\n",
       "      <td>24</td>\n",
       "      <td>38652</td>\n",
       "      <td>4446</td>\n",
       "      <td>1</td>\n",
       "    </tr>\n",
       "    <tr>\n",
       "      <th>1</th>\n",
       "      <td>47</td>\n",
       "      <td>64727</td>\n",
       "      <td>5188</td>\n",
       "      <td>0</td>\n",
       "    </tr>\n",
       "    <tr>\n",
       "      <th>2</th>\n",
       "      <td>46</td>\n",
       "      <td>54648</td>\n",
       "      <td>6193</td>\n",
       "      <td>1</td>\n",
       "    </tr>\n",
       "    <tr>\n",
       "      <th>3</th>\n",
       "      <td>31</td>\n",
       "      <td>20018</td>\n",
       "      <td>4779</td>\n",
       "      <td>1</td>\n",
       "    </tr>\n",
       "    <tr>\n",
       "      <th>4</th>\n",
       "      <td>58</td>\n",
       "      <td>77731</td>\n",
       "      <td>6855</td>\n",
       "      <td>1</td>\n",
       "    </tr>\n",
       "    <tr>\n",
       "      <th>5</th>\n",
       "      <td>28</td>\n",
       "      <td>55478</td>\n",
       "      <td>6153</td>\n",
       "      <td>1</td>\n",
       "    </tr>\n",
       "    <tr>\n",
       "      <th>6</th>\n",
       "      <td>48</td>\n",
       "      <td>54211</td>\n",
       "      <td>7588</td>\n",
       "      <td>0</td>\n",
       "    </tr>\n",
       "    <tr>\n",
       "      <th>7</th>\n",
       "      <td>31</td>\n",
       "      <td>60076</td>\n",
       "      <td>5238</td>\n",
       "      <td>1</td>\n",
       "    </tr>\n",
       "    <tr>\n",
       "      <th>8</th>\n",
       "      <td>42</td>\n",
       "      <td>29290</td>\n",
       "      <td>5418</td>\n",
       "      <td>0</td>\n",
       "    </tr>\n",
       "    <tr>\n",
       "      <th>9</th>\n",
       "      <td>50</td>\n",
       "      <td>21445</td>\n",
       "      <td>5598</td>\n",
       "      <td>1</td>\n",
       "    </tr>\n",
       "  </tbody>\n",
       "</table>\n",
       "</div>"
      ],
      "text/plain": [
       "   Age  Salary  Price  Male\n",
       "0   24   38652   4446     1\n",
       "1   47   64727   5188     0\n",
       "2   46   54648   6193     1\n",
       "3   31   20018   4779     1\n",
       "4   58   77731   6855     1\n",
       "5   28   55478   6153     1\n",
       "6   48   54211   7588     0\n",
       "7   31   60076   5238     1\n",
       "8   42   29290   5418     0\n",
       "9   50   21445   5598     1"
      ]
     },
     "execution_count": 21,
     "metadata": {},
     "output_type": "execute_result"
    }
   ],
   "source": [
    "new_df"
   ]
  },
  {
   "cell_type": "code",
   "execution_count": 26,
   "id": "c510eeab",
   "metadata": {},
   "outputs": [],
   "source": [
    "x_new = new_df[['Age', 'Salary', 'Price','Male']]"
   ]
  },
  {
   "cell_type": "code",
   "execution_count": 27,
   "id": "754855c3",
   "metadata": {},
   "outputs": [],
   "source": [
    "x_new_scala2 = Scaller_new.fit_transform(x_new)"
   ]
  },
  {
   "cell_type": "code",
   "execution_count": 29,
   "id": "eae9501c",
   "metadata": {},
   "outputs": [],
   "source": [
    "y_new_predict = KNN_new.predict(x_new_scala2)"
   ]
  },
  {
   "cell_type": "code",
   "execution_count": 44,
   "id": "4bd65cdc",
   "metadata": {},
   "outputs": [],
   "source": [
    "predictionss = pd.DataFrame(y_new_predict)"
   ]
  },
  {
   "cell_type": "code",
   "execution_count": 39,
   "id": "417fb0bc",
   "metadata": {},
   "outputs": [],
   "source": [
    "new_df[\"prediction\"] = y_new_predict"
   ]
  },
  {
   "cell_type": "code",
   "execution_count": 46,
   "id": "64ecae3b",
   "metadata": {},
   "outputs": [
    {
     "data": {
      "text/html": [
       "<div>\n",
       "<style scoped>\n",
       "    .dataframe tbody tr th:only-of-type {\n",
       "        vertical-align: middle;\n",
       "    }\n",
       "\n",
       "    .dataframe tbody tr th {\n",
       "        vertical-align: top;\n",
       "    }\n",
       "\n",
       "    .dataframe thead th {\n",
       "        text-align: right;\n",
       "    }\n",
       "</style>\n",
       "<table border=\"1\" class=\"dataframe\">\n",
       "  <thead>\n",
       "    <tr style=\"text-align: right;\">\n",
       "      <th></th>\n",
       "      <th>Age</th>\n",
       "      <th>Salary</th>\n",
       "      <th>Price</th>\n",
       "      <th>Male</th>\n",
       "      <th>prediction</th>\n",
       "    </tr>\n",
       "  </thead>\n",
       "  <tbody>\n",
       "    <tr>\n",
       "      <th>0</th>\n",
       "      <td>24</td>\n",
       "      <td>38652</td>\n",
       "      <td>4446</td>\n",
       "      <td>1</td>\n",
       "      <td>0</td>\n",
       "    </tr>\n",
       "    <tr>\n",
       "      <th>1</th>\n",
       "      <td>47</td>\n",
       "      <td>64727</td>\n",
       "      <td>5188</td>\n",
       "      <td>0</td>\n",
       "      <td>1</td>\n",
       "    </tr>\n",
       "    <tr>\n",
       "      <th>2</th>\n",
       "      <td>46</td>\n",
       "      <td>54648</td>\n",
       "      <td>6193</td>\n",
       "      <td>1</td>\n",
       "      <td>1</td>\n",
       "    </tr>\n",
       "    <tr>\n",
       "      <th>3</th>\n",
       "      <td>31</td>\n",
       "      <td>20018</td>\n",
       "      <td>4779</td>\n",
       "      <td>1</td>\n",
       "      <td>0</td>\n",
       "    </tr>\n",
       "    <tr>\n",
       "      <th>4</th>\n",
       "      <td>58</td>\n",
       "      <td>77731</td>\n",
       "      <td>6855</td>\n",
       "      <td>1</td>\n",
       "      <td>0</td>\n",
       "    </tr>\n",
       "    <tr>\n",
       "      <th>5</th>\n",
       "      <td>28</td>\n",
       "      <td>55478</td>\n",
       "      <td>6153</td>\n",
       "      <td>1</td>\n",
       "      <td>1</td>\n",
       "    </tr>\n",
       "    <tr>\n",
       "      <th>6</th>\n",
       "      <td>48</td>\n",
       "      <td>54211</td>\n",
       "      <td>7588</td>\n",
       "      <td>0</td>\n",
       "      <td>0</td>\n",
       "    </tr>\n",
       "    <tr>\n",
       "      <th>7</th>\n",
       "      <td>31</td>\n",
       "      <td>60076</td>\n",
       "      <td>5238</td>\n",
       "      <td>1</td>\n",
       "      <td>1</td>\n",
       "    </tr>\n",
       "    <tr>\n",
       "      <th>8</th>\n",
       "      <td>42</td>\n",
       "      <td>29290</td>\n",
       "      <td>5418</td>\n",
       "      <td>0</td>\n",
       "      <td>0</td>\n",
       "    </tr>\n",
       "    <tr>\n",
       "      <th>9</th>\n",
       "      <td>50</td>\n",
       "      <td>21445</td>\n",
       "      <td>5598</td>\n",
       "      <td>1</td>\n",
       "      <td>0</td>\n",
       "    </tr>\n",
       "  </tbody>\n",
       "</table>\n",
       "</div>"
      ],
      "text/plain": [
       "   Age  Salary  Price  Male  prediction\n",
       "0   24   38652   4446     1           0\n",
       "1   47   64727   5188     0           1\n",
       "2   46   54648   6193     1           1\n",
       "3   31   20018   4779     1           0\n",
       "4   58   77731   6855     1           0\n",
       "5   28   55478   6153     1           1\n",
       "6   48   54211   7588     0           0\n",
       "7   31   60076   5238     1           1\n",
       "8   42   29290   5418     0           0\n",
       "9   50   21445   5598     1           0"
      ]
     },
     "execution_count": 46,
     "metadata": {},
     "output_type": "execute_result"
    }
   ],
   "source": [
    "new_df"
   ]
  },
  {
   "cell_type": "code",
   "execution_count": 47,
   "id": "4fe5708f",
   "metadata": {},
   "outputs": [],
   "source": [
    "new_df.to_csv(\"model_prediction.csv\",index=False)"
   ]
  }
 ],
 "metadata": {
  "kernelspec": {
   "display_name": "Python 3 (ipykernel)",
   "language": "python",
   "name": "python3"
  },
  "language_info": {
   "codemirror_mode": {
    "name": "ipython",
    "version": 3
   },
   "file_extension": ".py",
   "mimetype": "text/x-python",
   "name": "python",
   "nbconvert_exporter": "python",
   "pygments_lexer": "ipython3",
   "version": "3.11.4"
  }
 },
 "nbformat": 4,
 "nbformat_minor": 5
}
